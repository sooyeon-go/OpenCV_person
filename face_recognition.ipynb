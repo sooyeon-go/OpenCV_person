{
 "cells": [
  {
   "cell_type": "code",
   "execution_count": 1,
   "metadata": {},
   "outputs": [],
   "source": [
    "import dlib, cv2\n",
    "import numpy as np\n",
    "import matplotlib.pyplot as plt\n",
    "import matplotlib.patches as patches\n",
    "import matplotlib.patheffects as path_effects"
   ]
  },
  {
   "cell_type": "code",
   "execution_count": 2,
   "metadata": {},
   "outputs": [],
   "source": [
    "detector = dlib.get_frontal_face_detector()\n",
    "sp = dlib.shape_predictor('model/shape_predictor_68_face_landmarks.dat')\n",
    "facerec = dlib.face_recognition_model_v1('model/dlib_face_recognition_resnet_model_v1.dat')"
   ]
  },
  {
   "cell_type": "code",
   "execution_count": 3,
   "metadata": {},
   "outputs": [],
   "source": [
    "def find_faces(img):\n",
    "    dets = detector(img, 1)\n",
    "\n",
    "    if len(dets) == 0:\n",
    "        return np.empty(0), np.empty(0), np.empty(0)\n",
    "    \n",
    "    rects, shapes = [], []\n",
    "    shapes_np = np.zeros((len(dets), 68, 2), dtype=np.int)\n",
    "    for k, d in enumerate(dets):\n",
    "        rect = ((d.left(), d.top()), (d.right(), d.bottom()))\n",
    "        rects.append(rect)\n",
    "\n",
    "        shape = sp(img, d)\n",
    "        \n",
    "        # convert dlib shape to numpy array\n",
    "        for i in range(0, 68):\n",
    "            shapes_np[k][i] = (shape.part(i).x, shape.part(i).y)\n",
    "\n",
    "        shapes.append(shape)\n",
    "        \n",
    "    return rects, shapes, shapes_np\n",
    "\n",
    "def encode_faces(img, shapes):\n",
    "    face_descriptors = []\n",
    "    for shape in shapes:\n",
    "        face_descriptor = facerec.compute_face_descriptor(img, shape)\n",
    "        face_descriptors.append(np.array(face_descriptor))\n",
    "\n",
    "    return np.array(face_descriptors)"
   ]
  },
  {
   "cell_type": "markdown",
   "metadata": {},
   "source": [
    "# 저장된 사진 Compute"
   ]
  },
  {
   "cell_type": "code",
   "execution_count": null,
   "metadata": {},
   "outputs": [],
   "source": [
    "img_paths = {\n",
    "    'neo': 'img/neo.jpg',\n",
    "    'trinity': 'img/trinity.jpg',\n",
    "}\n",
    "\n",
    "descs = {\n",
    "    'neo': None,\n",
    "    'trinity': None,\n",
    "}\n",
    "\n",
    "for name, img_path in img_paths.items():\n",
    "    img_bgr = cv2.imread(img_path)\n",
    "    img_rgb = cv2.cvtColor(img_bgr, cv2.COLOR_BGR2RGB)\n",
    "\n",
    "    _, img_shapes, _ = find_faces(img_rgb)\n",
    "    descs[name] = encode_faces(img_rgb, img_shapes)[0]\n",
    "\n",
    "np.save('img/descs.npy', descs)\n",
    "print(descs)"
   ]
  },
  {
   "cell_type": "markdown",
   "metadata": {},
   "source": [
    "# Compute input"
   ]
  },
  {
   "cell_type": "code",
   "execution_count": null,
   "metadata": {},
   "outputs": [],
   "source": [
    "img_bgr = cv2.imread('img/matrix5.jpg')\n",
    "img_rgb = cv2.cvtColor(img_bgr, cv2.COLOR_BGR2RGB)\n",
    "\n",
    "rects, shapes, _ = find_faces(img_rgb)\n",
    "descriptors = encode_faces(img_rgb, shapes)"
   ]
  },
  {
   "cell_type": "markdown",
   "metadata": {},
   "source": [
    "# Visualize Output"
   ]
  },
  {
   "cell_type": "code",
   "execution_count": null,
   "metadata": {},
   "outputs": [],
   "source": [
    "fig, ax = plt.subplots(1, figsize=(20, 20))\n",
    "ax.imshow(img_rgb)\n",
    "\n",
    "for i, desc in enumerate(descriptors):\n",
    "    \n",
    "    found = False\n",
    "    for name, saved_desc in descs.items():\n",
    "        dist = np.linalg.norm([desc] - saved_desc, axis=1)\n",
    "\n",
    "        if dist < 0.6:\n",
    "            found = True\n",
    "\n",
    "            text = ax.text(rects[i][0][0], rects[i][0][1], name,\n",
    "                    color='b', fontsize=40, fontweight='bold')\n",
    "            text.set_path_effects([path_effects.Stroke(linewidth=10, foreground='white'), path_effects.Normal()])\n",
    "            rect = patches.Rectangle(rects[i][0],\n",
    "                                 rects[i][1][1] - rects[i][0][1],\n",
    "                                 rects[i][1][0] - rects[i][0][0],\n",
    "                                 linewidth=2, edgecolor='w', facecolor='none')\n",
    "            ax.add_patch(rect)\n",
    "\n",
    "            break\n",
    "    \n",
    "    if not found:\n",
    "        ax.text(rects[i][0][0], rects[i][0][1], 'unknown',\n",
    "                color='r', fontsize=20, fontweight='bold')\n",
    "        rect = patches.Rectangle(rects[i][0],\n",
    "                             rects[i][1][1] - rects[i][0][1],\n",
    "                             rects[i][1][0] - rects[i][0][0],\n",
    "                             linewidth=2, edgecolor='r', facecolor='none')\n",
    "        ax.add_patch(rect)\n",
    "\n",
    "plt.axis('off')\n",
    "plt.savefig('result/output.png')\n",
    "plt.show()"
   ]
  }
 ],
 "metadata": {
  "kernelspec": {
   "display_name": "Python 3",
   "language": "python",
   "name": "python3"
  },
  "language_info": {
   "codemirror_mode": {
    "name": "ipython",
    "version": 3
   },
   "file_extension": ".py",
   "mimetype": "text/x-python",
   "name": "python",
   "nbconvert_exporter": "python",
   "pygments_lexer": "ipython3",
   "version": "3.7.7"
  }
 },
 "nbformat": 4,
 "nbformat_minor": 2
}
